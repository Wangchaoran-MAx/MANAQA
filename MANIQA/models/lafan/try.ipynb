{
 "cells": [
  {
   "cell_type": "code",
   "execution_count": 6,
   "id": "641e4f5d-095d-4272-bfb0-f2d20efae42b",
   "metadata": {},
   "outputs": [
    {
     "name": "stderr",
     "output_type": "stream",
     "text": [
      "100%|██████████| 78/78 [01:16<00:00,  1.02it/s]\n"
     ]
    },
    {
     "name": "stdout",
     "output_type": "stream",
     "text": [
      "(20212, 50, 22, 3)\n",
      "(20212, 50, 22, 4)\n",
      "(22,)\n",
      "(20212, 50, 2)\n",
      "(20212, 50, 2)\n"
     ]
    }
   ],
   "source": [
    "%run extract.py"
   ]
  },
  {
   "cell_type": "code",
   "execution_count": 7,
   "id": "e6c68eef-27a3-4458-8991-8d463b3ae762",
   "metadata": {},
   "outputs": [
    {
     "name": "stderr",
     "output_type": "stream",
     "text": [
      "/usr/local/lib/python3.8/dist-packages/tqdm/auto.py:22: TqdmWarning: IProgress not found. Please update jupyter and ipywidgets. See https://ipywidgets.readthedocs.io/en/stable/user_install.html\n",
      "  from .autonotebook import tqdm as notebook_tqdm\n"
     ]
    },
    {
     "name": "stdout",
     "output_type": "stream",
     "text": [
      "Building the test set...\n"
     ]
    },
    {
     "name": "stderr",
     "output_type": "stream",
     "text": [
      "100%|██████████| 78/78 [00:16<00:00,  4.62it/s]\n"
     ]
    },
    {
     "name": "stdout",
     "output_type": "stream",
     "text": [
      "local_quaternion\n",
      "(4468, 50, 22, 4)\n",
      "root_velocity\n",
      "(4468, 49, 3)\n",
      "contact\n",
      "(4468, 50, 4)\n",
      "root_position_offset\n",
      "(4468, 3)\n",
      "local_quaternion_offset\n",
      "(4468, 22, 4)\n",
      "target\n",
      "(4468, 22, 4)\n",
      "root_position\n",
      "(4468, 50, 3)\n",
      "global_position\n",
      "(4468, 50, 22, 3)\n",
      "global_quaternion\n",
      "(4468, 50, 22, 4)\n"
     ]
    }
   ],
   "source": [
    "%run LaFan1.py"
   ]
  },
  {
   "cell_type": "code",
   "execution_count": null,
   "id": "ed7176b2-d765-49fe-abeb-23a1c22e4ec3",
   "metadata": {},
   "outputs": [],
   "source": []
  }
 ],
 "metadata": {
  "kernelspec": {
   "display_name": "Python 3 (ipykernel)",
   "language": "python",
   "name": "python3"
  },
  "language_info": {
   "codemirror_mode": {
    "name": "ipython",
    "version": 3
   },
   "file_extension": ".py",
   "mimetype": "text/x-python",
   "name": "python",
   "nbconvert_exporter": "python",
   "pygments_lexer": "ipython3",
   "version": "3.8.10"
  }
 },
 "nbformat": 4,
 "nbformat_minor": 5
}
